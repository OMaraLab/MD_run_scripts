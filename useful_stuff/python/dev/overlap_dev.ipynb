{
 "cells": [
  {
   "cell_type": "code",
   "execution_count": 4,
   "metadata": {},
   "outputs": [],
   "source": [
    "import MDAnalysis as mda\n",
    "import itertools"
   ]
  },
  {
   "cell_type": "code",
   "execution_count": 5,
   "metadata": {},
   "outputs": [],
   "source": [
    "u1 = mda.Universe(\"/Users/ada/hOCT1/checkup/2022_03_27/hOCT1/hOCT1_THII_p2/r3/hOCT1_THII_p2_POPC_CLR_start.gro\")\n",
    "u2 = mda.Universe(\"/Users/ada/hOCT1/OneDrive_1_24-03-2023/Alastair_phenix_refine_round2/hOCT1_VIB_220323_real_space_refined_050.pdb\")\n"
   ]
  },
  {
   "cell_type": "code",
   "execution_count": 10,
   "metadata": {},
   "outputs": [],
   "source": [
    "\n",
    "def to_ranges(iterable):\n",
    "    iterable = sorted(set(iterable))\n",
    "    # https://stackoverflow.com/questions/4628333/converting-a-list-of-integers-into-range-in-python\n",
    "    for key, group in itertools.groupby(enumerate(iterable),\n",
    "                                        lambda t: t[1] - t[0]):\n",
    "        group = list(group)\n",
    "        yield group[0][1], group[-1][1]\n",
    "\n",
    "def vmdstr(a):\n",
    "    selstr = \"resid \"\n",
    "    c = 0\n",
    "    for i in list(to_ranges(a)):\n",
    "        if c != 0: selstr += (\" or \")\n",
    "        print (i)\n",
    "        selstr += (\" \".join([str(i[0]),\"to\",str(i[1])]))\n",
    "        c += 1\n",
    "    return(selstr)"
   ]
  },
  {
   "cell_type": "code",
   "execution_count": 6,
   "metadata": {},
   "outputs": [],
   "source": [
    "def overlap(p1,p2):\n",
    "    a1 = [x.resnum for x in list(p1.residues)]\n",
    "    a2 = [x.resnum for x in list(p2.residues)]\n",
    "    overlap = [x for x in a1 if x in a2]\n",
    "    return (overlap)"
   ]
  },
  {
   "cell_type": "code",
   "execution_count": 11,
   "metadata": {},
   "outputs": [
    {
     "name": "stdout",
     "output_type": "stream",
     "text": [
      "(19, 280)\n",
      "(331, 515)\n",
      "(601, 601)\n"
     ]
    },
    {
     "data": {
      "text/plain": [
       "'resid 19 to 280 or 331 to 515 or 601 to 601'"
      ]
     },
     "execution_count": 11,
     "metadata": {},
     "output_type": "execute_result"
    }
   ],
   "source": [
    "both = overlap(u1,u2)\n",
    "vmdstr(both)"
   ]
  },
  {
   "cell_type": "code",
   "execution_count": null,
   "metadata": {},
   "outputs": [],
   "source": [
    "def missing(p1,maxres=False):\n",
    "    a = [x.resnum for x in list(p1.residues)]\n",
    "    \n",
    "    r = range(0,max(a)+1)\n",
    "    if maxres: r = range(0,mres + 1)\n",
    "    missingres = [x for x in r if x not in a]\n",
    "    missingres = \n"
   ]
  },
  {
   "cell_type": "code",
   "execution_count": 56,
   "metadata": {},
   "outputs": [],
   "source": [
    "p1 = u1.select_atoms(\"protein\")\n",
    "a = [x.resnum for x in list(p1.residues)]\n",
    "a\n",
    "r = range(min(a),max(a)+1)\n",
    "missing = [x for x in r if x not in a]\n",
    "present = [x for x in r if x in a]\n",
    "\n",
    "\n",
    "mlist = list(to_ranges(missing))\n",
    "plist = list(to_ranges(present))"
   ]
  },
  {
   "cell_type": "code",
   "execution_count": 57,
   "metadata": {},
   "outputs": [
    {
     "data": {
      "text/plain": [
       "[(284, 330)]"
      ]
     },
     "execution_count": 57,
     "metadata": {},
     "output_type": "execute_result"
    }
   ],
   "source": [
    "mlist"
   ]
  },
  {
   "cell_type": "code",
   "execution_count": 62,
   "metadata": {},
   "outputs": [
    {
     "name": "stdout",
     "output_type": "stream",
     "text": [
      "(18, 283)\n",
      "(331, 516)\n",
      "resid 18 to 283 or 331 to 516\n"
     ]
    }
   ],
   "source": [
    "print(vmdstr(present))"
   ]
  }
 ],
 "metadata": {
  "kernelspec": {
   "display_name": "MDAnalysis",
   "language": "python",
   "name": "python3"
  },
  "language_info": {
   "codemirror_mode": {
    "name": "ipython",
    "version": 3
   },
   "file_extension": ".py",
   "mimetype": "text/x-python",
   "name": "python",
   "nbconvert_exporter": "python",
   "pygments_lexer": "ipython3",
   "version": "3.9.12"
  },
  "orig_nbformat": 4
 },
 "nbformat": 4,
 "nbformat_minor": 2
}
