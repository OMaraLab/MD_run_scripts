#usr/bin/env python3

# missing.py

# load in a protein
# check if any residue numbers are missing

# first plan: open it in md analysis, get list of residues, compare to integer range (1,highnum) where highnum is either user specified or the resnum (highest numbered residue in the structure) plus one
# alternate plan that doesn't require mdanalysis: 
# use grep to find lines with CA that match aminoacyl names
# extract res numbers
# look for discontinuities either by finding (intrange and not in resrange) or by counting or something
# desired outcome:  list of continuous segments of protein?  or list of missing regions / discontinuities?
# goal:  looking for discontnuities by hand sucks and it's easy to miss them, although I guess seq view in pymol is easy enough
#   bonus: generate a list of missing atoms ± aliphatic protons

# alternate goal: 
#   overlap.py
#   load two proteins
#   align their sequences
#   generate a vmd selection string for shared backbone residues
#   bonus:   check for shared atoms to decide whether to use "backbone" or just "CA"

import MDAnalysis
import ArgParse




parser = argparse.ArgumentParser()
parser.add_argument("--fname1", help="protein 1 filename", nargs=1, type=str, required=True)
parser.add_argument("--fname2", help="protein 2 filename (optional)", nargs=1, type=str, const=False)
parser.add_argument("--max",    help="highest canonical residue number (optional)", nargs='?', type=str, const=False)

args = parser.parse_args()

p1 = mda.Universe(args.fname1)
if args.fname1: p2 = mda.Universe(args.fname2)


CA1 = p1.select_atoms("protein and backbone")
